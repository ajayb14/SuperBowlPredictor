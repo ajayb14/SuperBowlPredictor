{
 "cells": [
  {
   "cell_type": "code",
   "execution_count": 472,
   "id": "96ec8ea4",
   "metadata": {},
   "outputs": [],
   "source": [
    "import pandas as pd\n",
    "\n"
   ]
  },
  {
   "cell_type": "code",
   "execution_count": 473,
   "id": "46813c79",
   "metadata": {},
   "outputs": [],
   "source": [
    "# Load new NFL team stats dataset\n",
    "espn_stats = pd.read_csv(\"../data/Raw_NFL/nfl_team_stats_2002-2024.csv\")\n",
    "\n",
    "# Load Super Bowl history dataset\n",
    "superbowl_winners = pd.read_csv(\"../data/Raw_NFL/superbowl.csv\")\n"
   ]
  },
  {
   "cell_type": "code",
   "execution_count": null,
   "id": "b81e6d3f",
   "metadata": {},
   "outputs": [],
   "source": [
    "# Total number of Passing, Rushing, PF, PA stats per team per season\n",
    "# Combine home and away stats by flipping away/home roles and stacking\n",
    "away_stats = espn_stats[['season', 'away', 'pass_yards_away', 'rush_yards_away', 'score_away', 'score_home']].copy()\n",
    "away_stats.columns = ['season', 'team', 'pass_yards', 'rush_yards', 'points_scored', 'points_allowed']\n",
    "\n",
    "home_stats = espn_stats[['season', 'home', 'pass_yards_home', 'rush_yards_home', 'score_home', 'score_away']].copy()\n",
    "home_stats.columns = ['season', 'team', 'pass_yards', 'rush_yards', 'points_scored', 'points_allowed']\n",
    "\n",
    "# Combine all games\n",
    "all_team_games = pd.concat([away_stats, home_stats])\n",
    "\n",
    "# Aggregate to season-level stats\n",
    "season_stats = all_team_games.groupby(['season', 'team']).agg({\n",
    "    'pass_yards': 'sum',\n",
    "    'rush_yards': 'sum',\n",
    "    'points_scored': 'sum',\n",
    "    'points_allowed': 'sum'\n",
    "}).reset_index()\n",
    "\n"
   ]
  },
  {
   "cell_type": "code",
   "execution_count": 475,
   "id": "3eef6bb9",
   "metadata": {},
   "outputs": [],
   "source": [
    "# Filter to only Super Bowl games\n",
    "sb_games = espn_stats[espn_stats['week'].str.lower() == 'superbowl'].copy()\n",
    "\n",
    "# Determine winner by comparing score\n",
    "sb_games['sb_winner'] = sb_games.apply(\n",
    "    lambda row: row['away'] if row['score_away'] > row['score_home'] else row['home'],\n",
    "    axis=1\n",
    ") # If away score is greater, we use the away row as the winner, otherwise the home row\n",
    "\n",
    "sb_winners_recent = sb_games[['season', 'sb_winner']].copy()\n",
    "sb_winners_recent.columns = ['season', 'team']"
   ]
  },
  {
   "cell_type": "code",
   "execution_count": 476,
   "id": "4cdd6dc8",
   "metadata": {},
   "outputs": [],
   "source": [
    "# Extract season and standardize team name\n",
    "superbowl_winners['season'] = pd.to_datetime(superbowl_winners['Date']).dt.year - 1\n",
    "superbowl_winners['team'] = superbowl_winners['Winner'].str.strip()\n",
    "\n",
    "# Only keep 1997–2001 data\n",
    "sb_winners_old = superbowl_winners[superbowl_winners['season'].between(1997, 2001)][['season', 'team']]\n",
    "# Combine old and recent Super Bowl winners\n",
    "combined_sb_winners = pd.concat([sb_winners_recent, sb_winners_old])\n",
    "combined_sb_winners = combined_sb_winners.sort_values('season').reset_index(drop=True)\n",
    "\n",
    "# Generate sb_wins_last_5 feature for each team \n",
    "def calculate_sb_wins_last_5(season, team):\n",
    "    # Filter for the last 5 seasons including current\n",
    "    recent_wins = combined_sb_winners[\n",
    "        (combined_sb_winners['season'] < season) & \n",
    "        (combined_sb_winners['season'] > season - 6) & \n",
    "        (combined_sb_winners['team'] == team)\n",
    "    ]\n",
    "    return len(recent_wins)\n",
    "# Apply the function to create the new feature\n",
    "season_stats['sb_wins_last_5'] = season_stats.apply(\n",
    "    lambda row: calculate_sb_wins_last_5(row['season'], row['team']),\n",
    "    axis=1\n",
    ")\n",
    "\n"
   ]
  },
  {
   "cell_type": "code",
   "execution_count": 477,
   "id": "aae37c48",
   "metadata": {},
   "outputs": [],
   "source": [
    "# Create a total yards column\n",
    "season_stats['total_yards'] = season_stats['pass_yards'] + season_stats['rush_yards']\n",
    "\n",
    "# Add point differential column\n",
    "season_stats['point_differential'] = season_stats['points_scored'] - season_stats['points_allowed']"
   ]
  },
  {
   "cell_type": "code",
   "execution_count": 478,
   "id": "35a7e114",
   "metadata": {},
   "outputs": [],
   "source": [
    "# Add is_sb_winner column to season_stats\n",
    "season_stats['is_sb_winner'] = season_stats.apply(\n",
    "\tlambda row: 1 if (row['season'], row['team']) in combined_sb_winners.values else 0,\n",
    "\taxis=1\n",
    ")\n",
    "\n",
    "# Using past stats, predict is_sb_winner_next_season\n",
    "season_stats['is_sb_winner_next_season'] = season_stats.groupby('team')['is_sb_winner'].shift(-1)\n"
   ]
  },
  {
   "cell_type": "code",
   "execution_count": 479,
   "id": "f32bfc5c",
   "metadata": {},
   "outputs": [
    {
     "data": {
      "text/plain": [
       "is_sb_winner                1.000000e+00\n",
       "is_sb_winner_next_season    1.000000e+00\n",
       "sb_wins_last_5              4.086805e-01\n",
       "total_yards                 3.043840e-01\n",
       "point_differential          2.996067e-01\n",
       "points_scored               2.911758e-01\n",
       "pass_yards                  2.882693e-01\n",
       "rush_yards                  1.173738e-01\n",
       "season                      5.278603e-16\n",
       "points_allowed             -8.723356e-02\n",
       "Name: is_sb_winner_next_season, dtype: float64"
      ]
     },
     "execution_count": 479,
     "metadata": {},
     "output_type": "execute_result"
    }
   ],
   "source": [
    "# Calculate correlation of features with Super Bowl winner status\n",
    "season_stats.corr(numeric_only=True)['is_sb_winner_next_season'].sort_values(ascending=False)\n",
    " "
   ]
  },
  {
   "cell_type": "code",
   "execution_count": 480,
   "id": "1702703f",
   "metadata": {},
   "outputs": [
    {
     "name": "stdout",
     "output_type": "stream",
     "text": [
      "Accuracy: 0.6595744680851063\n",
      "\n",
      "Classification Report:\n",
      "               precision    recall  f1-score   support\n",
      "\n",
      "         0.0       0.67      0.86      0.75        84\n",
      "         1.0       0.64      0.37      0.47        57\n",
      "\n",
      "    accuracy                           0.66       141\n",
      "   macro avg       0.65      0.61      0.61       141\n",
      "weighted avg       0.65      0.66      0.64       141\n",
      "\n",
      "\n",
      "Confusion Matrix:\n",
      " [[72 12]\n",
      " [36 21]]\n",
      "ROC AUC Score: 0.745405179615706\n"
     ]
    },
    {
     "name": "stderr",
     "output_type": "stream",
     "text": [
      "/Users/ajayb./Developer/git/SuperBowlPredictor/venv/lib/python3.13/site-packages/sklearn/linear_model/_linear_loss.py:200: RuntimeWarning: divide by zero encountered in matmul\n",
      "  raw_prediction = X @ weights + intercept\n",
      "/Users/ajayb./Developer/git/SuperBowlPredictor/venv/lib/python3.13/site-packages/sklearn/linear_model/_linear_loss.py:200: RuntimeWarning: overflow encountered in matmul\n",
      "  raw_prediction = X @ weights + intercept\n",
      "/Users/ajayb./Developer/git/SuperBowlPredictor/venv/lib/python3.13/site-packages/sklearn/linear_model/_linear_loss.py:200: RuntimeWarning: invalid value encountered in matmul\n",
      "  raw_prediction = X @ weights + intercept\n"
     ]
    }
   ],
   "source": [
    "# 1. Import libraries\n",
    "from sklearn.linear_model import LogisticRegression\n",
    "from sklearn.model_selection import train_test_split\n",
    "from sklearn.metrics import accuracy_score, classification_report, confusion_matrix, roc_auc_score\n",
    "\n",
    "# 2. Prepare features and target variable\n",
    "feature_cols = ['pass_yards', 'rush_yards', 'total_yards', 'points_scored', 'points_allowed', 'point_differential', 'sb_wins_last_5']\n",
    "X = season_stats[feature_cols]\n",
    "y = season_stats['is_sb_winner_next_season']\n",
    "\n",
    "# 3. Drop 2024 season (since it has no target label for 2025)\n",
    "X = X[season_stats['season'] < 2024]\n",
    "y = y[season_stats['season'] < 2024]\n",
    "\n",
    "#4 Split the data into training and testing sets\n",
    "# 4. Train/test split\n",
    "X_train, X_test, y_train, y_test = train_test_split(\n",
    "    X, y, test_size=0.2, random_state=42, stratify=y\n",
    ")\n",
    "# 5. Train the model\n",
    "model = LogisticRegression(max_iter=1000)\n",
    "model.fit(X_train, y_train)\n",
    "\n",
    "# 6. Predict and evaluate\n",
    "y_pred = model.predict(X_test)\n",
    "y_proba = model.predict_proba(X_test)[:, 1]\n",
    "\n",
    "# 7. Evaluation metrics\n",
    "print(\"Accuracy:\", accuracy_score(y_test, y_pred))\n",
    "print(\"\\nClassification Report:\\n\", classification_report(y_test, y_pred))\n",
    "print(\"\\nConfusion Matrix:\\n\", confusion_matrix(y_test, y_pred))\n",
    "print(\"ROC AUC Score:\", roc_auc_score(y_test, y_proba))"
   ]
  },
  {
   "cell_type": "code",
   "execution_count": 481,
   "id": "ad9a7d2d",
   "metadata": {},
   "outputs": [
    {
     "name": "stdout",
     "output_type": "stream",
     "text": [
      "🎯 Random Forest Accuracy: 0.7092198581560284\n",
      "\n",
      "📊 Classification Report:\n",
      "               precision    recall  f1-score   support\n",
      "\n",
      "         0.0       0.73      0.82      0.77        84\n",
      "         1.0       0.67      0.54      0.60        57\n",
      "\n",
      "    accuracy                           0.71       141\n",
      "   macro avg       0.70      0.68      0.69       141\n",
      "weighted avg       0.71      0.71      0.70       141\n",
      "\n",
      "\n",
      "📉 Confusion Matrix:\n",
      " [[69 15]\n",
      " [26 31]]\n",
      "📈 ROC AUC Score: 0.768483709273183\n"
     ]
    }
   ],
   "source": [
    "from sklearn.ensemble import RandomForestClassifier\n",
    "from sklearn.metrics import accuracy_score, classification_report, confusion_matrix, roc_auc_score\n",
    "\n",
    "# 1. Define the Random Forest model\n",
    "rf_model = RandomForestClassifier(\n",
    "    n_estimators=100,         # Number of trees\n",
    "    random_state=42,          # For reproducibility\n",
    "    class_weight='balanced',  # Helps with imbalance between 0 and 1 classes\n",
    "    max_depth=None,           # No limit on tree depth\n",
    "    n_jobs=-1                 # Use all available cores\n",
    ")\n",
    "\n",
    "# 2. Fit the model\n",
    "rf_model.fit(X_train, y_train)\n",
    "\n",
    "# 3. Make predictions\n",
    "y_pred_rf = rf_model.predict(X_test)\n",
    "y_proba_rf = rf_model.predict_proba(X_test)[:, 1]\n",
    "\n",
    "# 4. Evaluate the model\n",
    "# Accuracy of the model\n",
    "print(\"🎯 Random Forest Accuracy:\", accuracy_score(y_test, y_pred_rf)) \n",
    "# Predicting a win and predicting a loss\n",
    "print(\"\\n📊 Classification Report:\\n\", classification_report(y_test, y_pred_rf)) \n",
    "# True vs False Negatives and Positives\n",
    "print(\"\\n📉 Confusion Matrix:\\n\", confusion_matrix(y_test, y_pred_rf)) \n",
    "# AUC closer to 1 = better. 0.5 = random guessing\n",
    "print(\"📈 ROC AUC Score:\", roc_auc_score(y_test, y_proba_rf)) "
   ]
  },
  {
   "cell_type": "code",
   "execution_count": 482,
   "id": "1f660dea",
   "metadata": {},
   "outputs": [
    {
     "data": {
      "text/plain": [
       "['../model/rf_nfl_superbowl_winner_prediction.pkl']"
      ]
     },
     "execution_count": 482,
     "metadata": {},
     "output_type": "execute_result"
    }
   ],
   "source": [
    "import joblib\n",
    "# Save the trained model\n",
    "joblib.dump(rf_model, \"../model/rf_nfl_superbowl_winner_prediction.pkl\")"
   ]
  }
 ],
 "metadata": {
  "kernelspec": {
   "display_name": "venv",
   "language": "python",
   "name": "python3"
  },
  "language_info": {
   "codemirror_mode": {
    "name": "ipython",
    "version": 3
   },
   "file_extension": ".py",
   "mimetype": "text/x-python",
   "name": "python",
   "nbconvert_exporter": "python",
   "pygments_lexer": "ipython3",
   "version": "3.13.1"
  }
 },
 "nbformat": 4,
 "nbformat_minor": 5
}
